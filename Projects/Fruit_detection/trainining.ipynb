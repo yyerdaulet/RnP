{
 "cells": [
  {
   "cell_type": "code",
   "id": "initial_id",
   "metadata": {
    "collapsed": true,
    "ExecuteTime": {
     "end_time": "2025-06-02T14:07:08.136838Z",
     "start_time": "2025-06-02T14:07:08.120206Z"
    }
   },
   "source": [
    "from tensorflow.keras.preprocessing.image import ImageDataGenerator\n",
    "from tensorflow.keras.preprocessing import image\n",
    "from tensorflow.keras.optimizers import Adam\n",
    "import tensorflow as tf\n",
    "import numpy as np\n",
    "import cv2 \n",
    "import os"
   ],
   "outputs": [],
   "execution_count": 37
  },
  {
   "metadata": {
    "ExecuteTime": {
     "end_time": "2025-06-02T14:07:28.538045Z",
     "start_time": "2025-06-02T14:07:28.528346Z"
    }
   },
   "cell_type": "code",
   "source": [
    "train = ImageDataGenerator(rescale=1/255)\n",
    "validation = ImageDataGenerator(rescale=1/255)"
   ],
   "id": "ca48b5524a32d165",
   "outputs": [],
   "execution_count": 39
  },
  {
   "metadata": {
    "ExecuteTime": {
     "end_time": "2025-06-02T14:07:31.416538Z",
     "start_time": "2025-06-02T14:07:30.427101Z"
    }
   },
   "cell_type": "code",
   "source": "train_data = train.flow_from_directory('dataset/fruits-360-original-size/Training',target_size=(200,200),batch_size=3,class_mode='categorical')",
   "id": "724e1116713cd4b4",
   "outputs": [
    {
     "name": "stdout",
     "output_type": "stream",
     "text": [
      "Found 20037 images belonging to 62 classes.\n"
     ]
    }
   ],
   "execution_count": 40
  },
  {
   "metadata": {
    "ExecuteTime": {
     "end_time": "2025-06-02T14:07:34.109498Z",
     "start_time": "2025-06-02T14:07:33.511490Z"
    }
   },
   "cell_type": "code",
   "source": "validation_data = validation.flow_from_directory('dataset/fruits-360-original-size/Validation',target_size=(200,200),batch_size=3,class_mode='categorical')",
   "id": "366bbf359a50dd1b",
   "outputs": [
    {
     "name": "stdout",
     "output_type": "stream",
     "text": [
      "Found 10017 images belonging to 62 classes.\n"
     ]
    }
   ],
   "execution_count": 41
  },
  {
   "metadata": {
    "ExecuteTime": {
     "end_time": "2025-06-02T14:07:35.904306Z",
     "start_time": "2025-06-02T14:07:35.890047Z"
    }
   },
   "cell_type": "code",
   "source": "train_data.classes",
   "id": "576e56143a34c3f8",
   "outputs": [
    {
     "data": {
      "text/plain": [
       "array([ 0,  0,  0, ..., 61, 61, 61], dtype=int32)"
      ]
     },
     "execution_count": 42,
     "metadata": {},
     "output_type": "execute_result"
    }
   ],
   "execution_count": 42
  },
  {
   "metadata": {
    "ExecuteTime": {
     "end_time": "2025-06-02T14:22:24.446481Z",
     "start_time": "2025-06-02T14:22:24.312008Z"
    }
   },
   "cell_type": "code",
   "source": [
    "from keras import layers,models \n",
    "model = models.Sequential([\n",
    "    layers.Conv2D(32,(3,3),activation='relu',input_shape=(200,200,3)),\n",
    "    layers.MaxPooling2D((2,2)),\n",
    "    \n",
    "    layers.Conv2D(64,(3,3),activation='relu'),\n",
    "    layers.MaxPooling2D((2,2)),\n",
    "    \n",
    "    layers.Conv2D(128,(3,3),activation='relu'),\n",
    "    layers.MaxPooling2D((2,2)),\n",
    "    \n",
    "    layers.Flatten(),\n",
    "    layers.Dense(256,activation='relu'),\n",
    "    layers.Dropout(0.5),\n",
    "    layers.Dense(62,activation='softmax')\n",
    "])"
   ],
   "id": "caa75be0ec8c6cd8",
   "outputs": [],
   "execution_count": 52
  },
  {
   "metadata": {
    "ExecuteTime": {
     "end_time": "2025-06-02T14:22:26.203075Z",
     "start_time": "2025-06-02T14:22:26.195987Z"
    }
   },
   "cell_type": "code",
   "source": [
    "model.compile(\n",
    "    optimizer='adam',\n",
    "    loss='categorical_crossentropy',\n",
    "    metrics=['accuracy']\n",
    ")"
   ],
   "id": "4b21601c93cbf4e8",
   "outputs": [],
   "execution_count": 53
  },
  {
   "metadata": {
    "ExecuteTime": {
     "end_time": "2025-06-02T14:22:27.265413Z",
     "start_time": "2025-06-02T14:22:27.260213Z"
    }
   },
   "cell_type": "code",
   "source": [
    "from tensorflow.keras.callbacks import EarlyStopping\n",
    "early_stop = EarlyStopping(\n",
    "    monitor='val_acc',\n",
    "    patience=3,\n",
    "    restore_best_weights=True\n",
    ")"
   ],
   "id": "2b6a042413cac68f",
   "outputs": [],
   "execution_count": 54
  },
  {
   "metadata": {
    "ExecuteTime": {
     "end_time": "2025-06-02T14:24:20.222087Z",
     "start_time": "2025-06-02T14:22:28.917659Z"
    }
   },
   "cell_type": "code",
   "source": "model_fit = model.fit(train_data,steps_per_epoch=3,epochs=100,validation_data=validation_data)",
   "id": "38b8d5d21bc1d75e",
   "outputs": [
    {
     "name": "stdout",
     "output_type": "stream",
     "text": [
      "Epoch 1/100\n",
      "\u001B[1m3/3\u001B[0m \u001B[32m━━━━━━━━━━━━━━━━━━━━\u001B[0m\u001B[37m\u001B[0m \u001B[1m99s\u001B[0m 49s/step - accuracy: 0.0000e+00 - loss: 4.7802 - val_accuracy: 0.0074 - val_loss: 4.3099\n",
      "Epoch 2/100\n",
      "\u001B[1m3/3\u001B[0m \u001B[32m━━━━━━━━━━━━━━━━━━━━\u001B[0m\u001B[37m\u001B[0m \u001B[1m0s\u001B[0m 157ms/step - accuracy: 0.0000e+00 - loss: 3.9278"
     ]
    },
    {
     "ename": "KeyboardInterrupt",
     "evalue": "",
     "output_type": "error",
     "traceback": [
      "\u001B[31m---------------------------------------------------------------------------\u001B[39m",
      "\u001B[31mKeyboardInterrupt\u001B[39m                         Traceback (most recent call last)",
      "\u001B[36mCell\u001B[39m\u001B[36m \u001B[39m\u001B[32mIn[55]\u001B[39m\u001B[32m, line 1\u001B[39m\n\u001B[32m----> \u001B[39m\u001B[32m1\u001B[39m model_fit = \u001B[43mmodel\u001B[49m\u001B[43m.\u001B[49m\u001B[43mfit\u001B[49m\u001B[43m(\u001B[49m\u001B[43mtrain_data\u001B[49m\u001B[43m,\u001B[49m\u001B[43msteps_per_epoch\u001B[49m\u001B[43m=\u001B[49m\u001B[32;43m3\u001B[39;49m\u001B[43m,\u001B[49m\u001B[43mepochs\u001B[49m\u001B[43m=\u001B[49m\u001B[32;43m100\u001B[39;49m\u001B[43m,\u001B[49m\u001B[43mvalidation_data\u001B[49m\u001B[43m=\u001B[49m\u001B[43mvalidation_data\u001B[49m\u001B[43m)\u001B[49m\n",
      "\u001B[36mFile \u001B[39m\u001B[32m~/Desktop/allProjects/myenv/lib/python3.11/site-packages/keras/src/utils/traceback_utils.py:117\u001B[39m, in \u001B[36mfilter_traceback.<locals>.error_handler\u001B[39m\u001B[34m(*args, **kwargs)\u001B[39m\n\u001B[32m    115\u001B[39m filtered_tb = \u001B[38;5;28;01mNone\u001B[39;00m\n\u001B[32m    116\u001B[39m \u001B[38;5;28;01mtry\u001B[39;00m:\n\u001B[32m--> \u001B[39m\u001B[32m117\u001B[39m     \u001B[38;5;28;01mreturn\u001B[39;00m \u001B[43mfn\u001B[49m\u001B[43m(\u001B[49m\u001B[43m*\u001B[49m\u001B[43margs\u001B[49m\u001B[43m,\u001B[49m\u001B[43m \u001B[49m\u001B[43m*\u001B[49m\u001B[43m*\u001B[49m\u001B[43mkwargs\u001B[49m\u001B[43m)\u001B[49m\n\u001B[32m    118\u001B[39m \u001B[38;5;28;01mexcept\u001B[39;00m \u001B[38;5;167;01mException\u001B[39;00m \u001B[38;5;28;01mas\u001B[39;00m e:\n\u001B[32m    119\u001B[39m     filtered_tb = _process_traceback_frames(e.__traceback__)\n",
      "\u001B[36mFile \u001B[39m\u001B[32m~/Desktop/allProjects/myenv/lib/python3.11/site-packages/keras/src/backend/tensorflow/trainer.py:395\u001B[39m, in \u001B[36mTensorFlowTrainer.fit\u001B[39m\u001B[34m(self, x, y, batch_size, epochs, verbose, callbacks, validation_split, validation_data, shuffle, class_weight, sample_weight, initial_epoch, steps_per_epoch, validation_steps, validation_batch_size, validation_freq)\u001B[39m\n\u001B[32m    384\u001B[39m \u001B[38;5;28;01mif\u001B[39;00m \u001B[38;5;28mgetattr\u001B[39m(\u001B[38;5;28mself\u001B[39m, \u001B[33m\"\u001B[39m\u001B[33m_eval_epoch_iterator\u001B[39m\u001B[33m\"\u001B[39m, \u001B[38;5;28;01mNone\u001B[39;00m) \u001B[38;5;129;01mis\u001B[39;00m \u001B[38;5;28;01mNone\u001B[39;00m:\n\u001B[32m    385\u001B[39m     \u001B[38;5;28mself\u001B[39m._eval_epoch_iterator = TFEpochIterator(\n\u001B[32m    386\u001B[39m         x=val_x,\n\u001B[32m    387\u001B[39m         y=val_y,\n\u001B[32m   (...)\u001B[39m\u001B[32m    393\u001B[39m         shuffle=\u001B[38;5;28;01mFalse\u001B[39;00m,\n\u001B[32m    394\u001B[39m     )\n\u001B[32m--> \u001B[39m\u001B[32m395\u001B[39m val_logs = \u001B[38;5;28;43mself\u001B[39;49m\u001B[43m.\u001B[49m\u001B[43mevaluate\u001B[49m\u001B[43m(\u001B[49m\n\u001B[32m    396\u001B[39m \u001B[43m    \u001B[49m\u001B[43mx\u001B[49m\u001B[43m=\u001B[49m\u001B[43mval_x\u001B[49m\u001B[43m,\u001B[49m\n\u001B[32m    397\u001B[39m \u001B[43m    \u001B[49m\u001B[43my\u001B[49m\u001B[43m=\u001B[49m\u001B[43mval_y\u001B[49m\u001B[43m,\u001B[49m\n\u001B[32m    398\u001B[39m \u001B[43m    \u001B[49m\u001B[43msample_weight\u001B[49m\u001B[43m=\u001B[49m\u001B[43mval_sample_weight\u001B[49m\u001B[43m,\u001B[49m\n\u001B[32m    399\u001B[39m \u001B[43m    \u001B[49m\u001B[43mbatch_size\u001B[49m\u001B[43m=\u001B[49m\u001B[43mvalidation_batch_size\u001B[49m\u001B[43m \u001B[49m\u001B[38;5;129;43;01mor\u001B[39;49;00m\u001B[43m \u001B[49m\u001B[43mbatch_size\u001B[49m\u001B[43m,\u001B[49m\n\u001B[32m    400\u001B[39m \u001B[43m    \u001B[49m\u001B[43msteps\u001B[49m\u001B[43m=\u001B[49m\u001B[43mvalidation_steps\u001B[49m\u001B[43m,\u001B[49m\n\u001B[32m    401\u001B[39m \u001B[43m    \u001B[49m\u001B[43mcallbacks\u001B[49m\u001B[43m=\u001B[49m\u001B[43mcallbacks\u001B[49m\u001B[43m,\u001B[49m\n\u001B[32m    402\u001B[39m \u001B[43m    \u001B[49m\u001B[43mreturn_dict\u001B[49m\u001B[43m=\u001B[49m\u001B[38;5;28;43;01mTrue\u001B[39;49;00m\u001B[43m,\u001B[49m\n\u001B[32m    403\u001B[39m \u001B[43m    \u001B[49m\u001B[43m_use_cached_eval_dataset\u001B[49m\u001B[43m=\u001B[49m\u001B[38;5;28;43;01mTrue\u001B[39;49;00m\u001B[43m,\u001B[49m\n\u001B[32m    404\u001B[39m \u001B[43m\u001B[49m\u001B[43m)\u001B[49m\n\u001B[32m    405\u001B[39m val_logs = {\n\u001B[32m    406\u001B[39m     \u001B[33m\"\u001B[39m\u001B[33mval_\u001B[39m\u001B[33m\"\u001B[39m + name: val \u001B[38;5;28;01mfor\u001B[39;00m name, val \u001B[38;5;129;01min\u001B[39;00m val_logs.items()\n\u001B[32m    407\u001B[39m }\n\u001B[32m    408\u001B[39m epoch_logs.update(val_logs)\n",
      "\u001B[36mFile \u001B[39m\u001B[32m~/Desktop/allProjects/myenv/lib/python3.11/site-packages/keras/src/utils/traceback_utils.py:117\u001B[39m, in \u001B[36mfilter_traceback.<locals>.error_handler\u001B[39m\u001B[34m(*args, **kwargs)\u001B[39m\n\u001B[32m    115\u001B[39m filtered_tb = \u001B[38;5;28;01mNone\u001B[39;00m\n\u001B[32m    116\u001B[39m \u001B[38;5;28;01mtry\u001B[39;00m:\n\u001B[32m--> \u001B[39m\u001B[32m117\u001B[39m     \u001B[38;5;28;01mreturn\u001B[39;00m \u001B[43mfn\u001B[49m\u001B[43m(\u001B[49m\u001B[43m*\u001B[49m\u001B[43margs\u001B[49m\u001B[43m,\u001B[49m\u001B[43m \u001B[49m\u001B[43m*\u001B[49m\u001B[43m*\u001B[49m\u001B[43mkwargs\u001B[49m\u001B[43m)\u001B[49m\n\u001B[32m    118\u001B[39m \u001B[38;5;28;01mexcept\u001B[39;00m \u001B[38;5;167;01mException\u001B[39;00m \u001B[38;5;28;01mas\u001B[39;00m e:\n\u001B[32m    119\u001B[39m     filtered_tb = _process_traceback_frames(e.__traceback__)\n",
      "\u001B[36mFile \u001B[39m\u001B[32m~/Desktop/allProjects/myenv/lib/python3.11/site-packages/keras/src/backend/tensorflow/trainer.py:483\u001B[39m, in \u001B[36mTensorFlowTrainer.evaluate\u001B[39m\u001B[34m(self, x, y, batch_size, verbose, sample_weight, steps, callbacks, return_dict, **kwargs)\u001B[39m\n\u001B[32m    481\u001B[39m \u001B[38;5;28;01mfor\u001B[39;00m step, iterator \u001B[38;5;129;01min\u001B[39;00m epoch_iterator:\n\u001B[32m    482\u001B[39m     callbacks.on_test_batch_begin(step)\n\u001B[32m--> \u001B[39m\u001B[32m483\u001B[39m     logs = \u001B[38;5;28;43mself\u001B[39;49m\u001B[43m.\u001B[49m\u001B[43mtest_function\u001B[49m\u001B[43m(\u001B[49m\u001B[43miterator\u001B[49m\u001B[43m)\u001B[49m\n\u001B[32m    484\u001B[39m     callbacks.on_test_batch_end(step, logs)\n\u001B[32m    485\u001B[39m     \u001B[38;5;28;01mif\u001B[39;00m \u001B[38;5;28mself\u001B[39m.stop_evaluating:\n",
      "\u001B[36mFile \u001B[39m\u001B[32m~/Desktop/allProjects/myenv/lib/python3.11/site-packages/keras/src/backend/tensorflow/trainer.py:219\u001B[39m, in \u001B[36mTensorFlowTrainer._make_function.<locals>.function\u001B[39m\u001B[34m(iterator)\u001B[39m\n\u001B[32m    215\u001B[39m \u001B[38;5;28;01mdef\u001B[39;00m\u001B[38;5;250m \u001B[39m\u001B[34mfunction\u001B[39m(iterator):\n\u001B[32m    216\u001B[39m     \u001B[38;5;28;01mif\u001B[39;00m \u001B[38;5;28misinstance\u001B[39m(\n\u001B[32m    217\u001B[39m         iterator, (tf.data.Iterator, tf.distribute.DistributedIterator)\n\u001B[32m    218\u001B[39m     ):\n\u001B[32m--> \u001B[39m\u001B[32m219\u001B[39m         opt_outputs = \u001B[43mmulti_step_on_iterator\u001B[49m\u001B[43m(\u001B[49m\u001B[43miterator\u001B[49m\u001B[43m)\u001B[49m\n\u001B[32m    220\u001B[39m         \u001B[38;5;28;01mif\u001B[39;00m \u001B[38;5;129;01mnot\u001B[39;00m opt_outputs.has_value():\n\u001B[32m    221\u001B[39m             \u001B[38;5;28;01mraise\u001B[39;00m \u001B[38;5;167;01mStopIteration\u001B[39;00m\n",
      "\u001B[36mFile \u001B[39m\u001B[32m~/Desktop/allProjects/myenv/lib/python3.11/site-packages/tensorflow/python/util/traceback_utils.py:150\u001B[39m, in \u001B[36mfilter_traceback.<locals>.error_handler\u001B[39m\u001B[34m(*args, **kwargs)\u001B[39m\n\u001B[32m    148\u001B[39m filtered_tb = \u001B[38;5;28;01mNone\u001B[39;00m\n\u001B[32m    149\u001B[39m \u001B[38;5;28;01mtry\u001B[39;00m:\n\u001B[32m--> \u001B[39m\u001B[32m150\u001B[39m   \u001B[38;5;28;01mreturn\u001B[39;00m \u001B[43mfn\u001B[49m\u001B[43m(\u001B[49m\u001B[43m*\u001B[49m\u001B[43margs\u001B[49m\u001B[43m,\u001B[49m\u001B[43m \u001B[49m\u001B[43m*\u001B[49m\u001B[43m*\u001B[49m\u001B[43mkwargs\u001B[49m\u001B[43m)\u001B[49m\n\u001B[32m    151\u001B[39m \u001B[38;5;28;01mexcept\u001B[39;00m \u001B[38;5;167;01mException\u001B[39;00m \u001B[38;5;28;01mas\u001B[39;00m e:\n\u001B[32m    152\u001B[39m   filtered_tb = _process_traceback_frames(e.__traceback__)\n",
      "\u001B[36mFile \u001B[39m\u001B[32m~/Desktop/allProjects/myenv/lib/python3.11/site-packages/tensorflow/python/eager/polymorphic_function/polymorphic_function.py:833\u001B[39m, in \u001B[36mFunction.__call__\u001B[39m\u001B[34m(self, *args, **kwds)\u001B[39m\n\u001B[32m    830\u001B[39m compiler = \u001B[33m\"\u001B[39m\u001B[33mxla\u001B[39m\u001B[33m\"\u001B[39m \u001B[38;5;28;01mif\u001B[39;00m \u001B[38;5;28mself\u001B[39m._jit_compile \u001B[38;5;28;01melse\u001B[39;00m \u001B[33m\"\u001B[39m\u001B[33mnonXla\u001B[39m\u001B[33m\"\u001B[39m\n\u001B[32m    832\u001B[39m \u001B[38;5;28;01mwith\u001B[39;00m OptionalXlaContext(\u001B[38;5;28mself\u001B[39m._jit_compile):\n\u001B[32m--> \u001B[39m\u001B[32m833\u001B[39m   result = \u001B[38;5;28;43mself\u001B[39;49m\u001B[43m.\u001B[49m\u001B[43m_call\u001B[49m\u001B[43m(\u001B[49m\u001B[43m*\u001B[49m\u001B[43margs\u001B[49m\u001B[43m,\u001B[49m\u001B[43m \u001B[49m\u001B[43m*\u001B[49m\u001B[43m*\u001B[49m\u001B[43mkwds\u001B[49m\u001B[43m)\u001B[49m\n\u001B[32m    835\u001B[39m new_tracing_count = \u001B[38;5;28mself\u001B[39m.experimental_get_tracing_count()\n\u001B[32m    836\u001B[39m without_tracing = (tracing_count == new_tracing_count)\n",
      "\u001B[36mFile \u001B[39m\u001B[32m~/Desktop/allProjects/myenv/lib/python3.11/site-packages/tensorflow/python/eager/polymorphic_function/polymorphic_function.py:878\u001B[39m, in \u001B[36mFunction._call\u001B[39m\u001B[34m(self, *args, **kwds)\u001B[39m\n\u001B[32m    875\u001B[39m \u001B[38;5;28mself\u001B[39m._lock.release()\n\u001B[32m    876\u001B[39m \u001B[38;5;66;03m# In this case we have not created variables on the first call. So we can\u001B[39;00m\n\u001B[32m    877\u001B[39m \u001B[38;5;66;03m# run the first trace but we should fail if variables are created.\u001B[39;00m\n\u001B[32m--> \u001B[39m\u001B[32m878\u001B[39m results = \u001B[43mtracing_compilation\u001B[49m\u001B[43m.\u001B[49m\u001B[43mcall_function\u001B[49m\u001B[43m(\u001B[49m\n\u001B[32m    879\u001B[39m \u001B[43m    \u001B[49m\u001B[43margs\u001B[49m\u001B[43m,\u001B[49m\u001B[43m \u001B[49m\u001B[43mkwds\u001B[49m\u001B[43m,\u001B[49m\u001B[43m \u001B[49m\u001B[38;5;28;43mself\u001B[39;49m\u001B[43m.\u001B[49m\u001B[43m_variable_creation_config\u001B[49m\n\u001B[32m    880\u001B[39m \u001B[43m\u001B[49m\u001B[43m)\u001B[49m\n\u001B[32m    881\u001B[39m \u001B[38;5;28;01mif\u001B[39;00m \u001B[38;5;28mself\u001B[39m._created_variables:\n\u001B[32m    882\u001B[39m   \u001B[38;5;28;01mraise\u001B[39;00m \u001B[38;5;167;01mValueError\u001B[39;00m(\u001B[33m\"\u001B[39m\u001B[33mCreating variables on a non-first call to a function\u001B[39m\u001B[33m\"\u001B[39m\n\u001B[32m    883\u001B[39m                    \u001B[33m\"\u001B[39m\u001B[33m decorated with tf.function.\u001B[39m\u001B[33m\"\u001B[39m)\n",
      "\u001B[36mFile \u001B[39m\u001B[32m~/Desktop/allProjects/myenv/lib/python3.11/site-packages/tensorflow/python/eager/polymorphic_function/tracing_compilation.py:138\u001B[39m, in \u001B[36mcall_function\u001B[39m\u001B[34m(args, kwargs, tracing_options)\u001B[39m\n\u001B[32m    136\u001B[39m \u001B[38;5;66;03m# Bind it ourselves to skip unnecessary canonicalization of default call.\u001B[39;00m\n\u001B[32m    137\u001B[39m bound_args = function.function_type.bind(*args, **kwargs)\n\u001B[32m--> \u001B[39m\u001B[32m138\u001B[39m flat_inputs = \u001B[43mfunction\u001B[49m\u001B[43m.\u001B[49m\u001B[43mfunction_type\u001B[49m\u001B[43m.\u001B[49m\u001B[43munpack_inputs\u001B[49m\u001B[43m(\u001B[49m\u001B[43mbound_args\u001B[49m\u001B[43m)\u001B[49m\n\u001B[32m    139\u001B[39m \u001B[38;5;28;01mreturn\u001B[39;00m function._call_flat(  \u001B[38;5;66;03m# pylint: disable=protected-access\u001B[39;00m\n\u001B[32m    140\u001B[39m     flat_inputs, captured_inputs=function.captured_inputs\n\u001B[32m    141\u001B[39m )\n",
      "\u001B[36mFile \u001B[39m\u001B[32m~/Desktop/allProjects/myenv/lib/python3.11/site-packages/tensorflow/core/function/polymorphism/function_type.py:395\u001B[39m, in \u001B[36mFunctionType.unpack_inputs\u001B[39m\u001B[34m(self, bound_parameters)\u001B[39m\n\u001B[32m    392\u001B[39m flat = []\n\u001B[32m    393\u001B[39m \u001B[38;5;28;01mfor\u001B[39;00m p \u001B[38;5;129;01min\u001B[39;00m \u001B[38;5;28mself\u001B[39m._sorted_parameters:\n\u001B[32m    394\u001B[39m   flat.extend(\n\u001B[32m--> \u001B[39m\u001B[32m395\u001B[39m       \u001B[43mp\u001B[49m\u001B[43m.\u001B[49m\u001B[43mtype_constraint\u001B[49m\u001B[43m.\u001B[49m\u001B[43mto_tensors\u001B[49m\u001B[43m(\u001B[49m\u001B[43mbound_parameters\u001B[49m\u001B[43m.\u001B[49m\u001B[43marguments\u001B[49m\u001B[43m[\u001B[49m\u001B[43mp\u001B[49m\u001B[43m.\u001B[49m\u001B[43mname\u001B[49m\u001B[43m]\u001B[49m\u001B[43m)\u001B[49m\n\u001B[32m    396\u001B[39m   )\n\u001B[32m    398\u001B[39m dealiased_inputs = []\n\u001B[32m    399\u001B[39m ids_used = \u001B[38;5;28mset\u001B[39m()\n",
      "\u001B[36mFile \u001B[39m\u001B[32m~/Desktop/allProjects/myenv/lib/python3.11/site-packages/tensorflow/python/framework/type_spec.py:251\u001B[39m, in \u001B[36mTypeSpec.to_tensors\u001B[39m\u001B[34m(self, value)\u001B[39m\n\u001B[32m    248\u001B[39m \u001B[38;5;250m\u001B[39m\u001B[33;03m\"\"\"See TraceType base class for details. Do not override.\"\"\"\u001B[39;00m\n\u001B[32m    250\u001B[39m tensors = []\n\u001B[32m--> \u001B[39m\u001B[32m251\u001B[39m \u001B[43mnest\u001B[49m\u001B[43m.\u001B[49m\u001B[43mmap_structure\u001B[49m\u001B[43m(\u001B[49m\n\u001B[32m    252\u001B[39m \u001B[43m    \u001B[49m\u001B[38;5;28;43;01mlambda\u001B[39;49;00m\u001B[43m \u001B[49m\u001B[43mspec\u001B[49m\u001B[43m,\u001B[49m\u001B[43m \u001B[49m\u001B[43mv\u001B[49m\u001B[43m:\u001B[49m\u001B[43m \u001B[49m\u001B[43mtensors\u001B[49m\u001B[43m.\u001B[49m\u001B[43mextend\u001B[49m\u001B[43m(\u001B[49m\u001B[43mspec\u001B[49m\u001B[43m.\u001B[49m\u001B[43mto_tensors\u001B[49m\u001B[43m(\u001B[49m\u001B[43mv\u001B[49m\u001B[43m)\u001B[49m\u001B[43m)\u001B[49m\u001B[43m,\u001B[49m\n\u001B[32m    253\u001B[39m \u001B[43m    \u001B[49m\u001B[38;5;28;43mself\u001B[39;49m\u001B[43m.\u001B[49m\u001B[43m_component_specs\u001B[49m\u001B[43m,\u001B[49m\n\u001B[32m    254\u001B[39m \u001B[43m    \u001B[49m\u001B[38;5;28;43mself\u001B[39;49m\u001B[43m.\u001B[49m\u001B[43m_to_components\u001B[49m\u001B[43m(\u001B[49m\u001B[43mvalue\u001B[49m\u001B[43m)\u001B[49m\u001B[43m)\u001B[49m\n\u001B[32m    255\u001B[39m \u001B[38;5;28;01mreturn\u001B[39;00m tensors\n",
      "\u001B[36mFile \u001B[39m\u001B[32m~/Desktop/allProjects/myenv/lib/python3.11/site-packages/tensorflow/python/util/nest.py:628\u001B[39m, in \u001B[36mmap_structure\u001B[39m\u001B[34m(func, *structure, **kwargs)\u001B[39m\n\u001B[32m    542\u001B[39m \u001B[38;5;129m@tf_export\u001B[39m(\u001B[33m\"\u001B[39m\u001B[33mnest.map_structure\u001B[39m\u001B[33m\"\u001B[39m)\n\u001B[32m    543\u001B[39m \u001B[38;5;28;01mdef\u001B[39;00m\u001B[38;5;250m \u001B[39m\u001B[34mmap_structure\u001B[39m(func, *structure, **kwargs):\n\u001B[32m    544\u001B[39m \u001B[38;5;250m  \u001B[39m\u001B[33;03m\"\"\"Creates a new structure by applying `func` to each atom in `structure`.\u001B[39;00m\n\u001B[32m    545\u001B[39m \n\u001B[32m    546\u001B[39m \u001B[33;03m  Refer to [tf.nest](https://www.tensorflow.org/api_docs/python/tf/nest)\u001B[39;00m\n\u001B[32m   (...)\u001B[39m\u001B[32m    626\u001B[39m \u001B[33;03m    ValueError: If wrong keyword arguments are provided.\u001B[39;00m\n\u001B[32m    627\u001B[39m \u001B[33;03m  \"\"\"\u001B[39;00m\n\u001B[32m--> \u001B[39m\u001B[32m628\u001B[39m   \u001B[38;5;28;01mreturn\u001B[39;00m \u001B[43mnest_util\u001B[49m\u001B[43m.\u001B[49m\u001B[43mmap_structure\u001B[49m\u001B[43m(\u001B[49m\n\u001B[32m    629\u001B[39m \u001B[43m      \u001B[49m\u001B[43mnest_util\u001B[49m\u001B[43m.\u001B[49m\u001B[43mModality\u001B[49m\u001B[43m.\u001B[49m\u001B[43mCORE\u001B[49m\u001B[43m,\u001B[49m\u001B[43m \u001B[49m\u001B[43mfunc\u001B[49m\u001B[43m,\u001B[49m\u001B[43m \u001B[49m\u001B[43m*\u001B[49m\u001B[43mstructure\u001B[49m\u001B[43m,\u001B[49m\u001B[43m \u001B[49m\u001B[43m*\u001B[49m\u001B[43m*\u001B[49m\u001B[43mkwargs\u001B[49m\n\u001B[32m    630\u001B[39m \u001B[43m  \u001B[49m\u001B[43m)\u001B[49m\n",
      "\u001B[36mFile \u001B[39m\u001B[32m~/Desktop/allProjects/myenv/lib/python3.11/site-packages/tensorflow/python/util/nest_util.py:1065\u001B[39m, in \u001B[36mmap_structure\u001B[39m\u001B[34m(modality, func, *structure, **kwargs)\u001B[39m\n\u001B[32m    968\u001B[39m \u001B[38;5;250m\u001B[39m\u001B[33;03m\"\"\"Creates a new structure by applying `func` to each atom in `structure`.\u001B[39;00m\n\u001B[32m    969\u001B[39m \n\u001B[32m    970\u001B[39m \u001B[33;03m- For Modality.CORE: Refer to\u001B[39;00m\n\u001B[32m   (...)\u001B[39m\u001B[32m   1062\u001B[39m \u001B[33;03m  ValueError: If wrong keyword arguments are provided.\u001B[39;00m\n\u001B[32m   1063\u001B[39m \u001B[33;03m\"\"\"\u001B[39;00m\n\u001B[32m   1064\u001B[39m \u001B[38;5;28;01mif\u001B[39;00m modality == Modality.CORE:\n\u001B[32m-> \u001B[39m\u001B[32m1065\u001B[39m   \u001B[38;5;28;01mreturn\u001B[39;00m \u001B[43m_tf_core_map_structure\u001B[49m\u001B[43m(\u001B[49m\u001B[43mfunc\u001B[49m\u001B[43m,\u001B[49m\u001B[43m \u001B[49m\u001B[43m*\u001B[49m\u001B[43mstructure\u001B[49m\u001B[43m,\u001B[49m\u001B[43m \u001B[49m\u001B[43m*\u001B[49m\u001B[43m*\u001B[49m\u001B[43mkwargs\u001B[49m\u001B[43m)\u001B[49m\n\u001B[32m   1066\u001B[39m \u001B[38;5;28;01melif\u001B[39;00m modality == Modality.DATA:\n\u001B[32m   1067\u001B[39m   \u001B[38;5;28;01mreturn\u001B[39;00m _tf_data_map_structure(func, *structure, **kwargs)\n",
      "\u001B[36mFile \u001B[39m\u001B[32m~/Desktop/allProjects/myenv/lib/python3.11/site-packages/tensorflow/python/util/nest_util.py:1105\u001B[39m, in \u001B[36m_tf_core_map_structure\u001B[39m\u001B[34m(func, *structure, **kwargs)\u001B[39m\n\u001B[32m   1100\u001B[39m flat_structure = (_tf_core_flatten(s, expand_composites) \u001B[38;5;28;01mfor\u001B[39;00m s \u001B[38;5;129;01min\u001B[39;00m structure)\n\u001B[32m   1101\u001B[39m entries = \u001B[38;5;28mzip\u001B[39m(*flat_structure)\n\u001B[32m   1103\u001B[39m \u001B[38;5;28;01mreturn\u001B[39;00m _tf_core_pack_sequence_as(\n\u001B[32m   1104\u001B[39m     structure[\u001B[32m0\u001B[39m],\n\u001B[32m-> \u001B[39m\u001B[32m1105\u001B[39m     \u001B[43m[\u001B[49m\u001B[43mfunc\u001B[49m\u001B[43m(\u001B[49m\u001B[43m*\u001B[49m\u001B[43mx\u001B[49m\u001B[43m)\u001B[49m\u001B[43m \u001B[49m\u001B[38;5;28;43;01mfor\u001B[39;49;00m\u001B[43m \u001B[49m\u001B[43mx\u001B[49m\u001B[43m \u001B[49m\u001B[38;5;129;43;01min\u001B[39;49;00m\u001B[43m \u001B[49m\u001B[43mentries\u001B[49m\u001B[43m]\u001B[49m,\n\u001B[32m   1106\u001B[39m     expand_composites=expand_composites,\n\u001B[32m   1107\u001B[39m )\n",
      "\u001B[36mFile \u001B[39m\u001B[32m~/Desktop/allProjects/myenv/lib/python3.11/site-packages/tensorflow/python/util/nest_util.py:1105\u001B[39m, in \u001B[36m<listcomp>\u001B[39m\u001B[34m(.0)\u001B[39m\n\u001B[32m   1100\u001B[39m flat_structure = (_tf_core_flatten(s, expand_composites) \u001B[38;5;28;01mfor\u001B[39;00m s \u001B[38;5;129;01min\u001B[39;00m structure)\n\u001B[32m   1101\u001B[39m entries = \u001B[38;5;28mzip\u001B[39m(*flat_structure)\n\u001B[32m   1103\u001B[39m \u001B[38;5;28;01mreturn\u001B[39;00m _tf_core_pack_sequence_as(\n\u001B[32m   1104\u001B[39m     structure[\u001B[32m0\u001B[39m],\n\u001B[32m-> \u001B[39m\u001B[32m1105\u001B[39m     [\u001B[43mfunc\u001B[49m\u001B[43m(\u001B[49m\u001B[43m*\u001B[49m\u001B[43mx\u001B[49m\u001B[43m)\u001B[49m \u001B[38;5;28;01mfor\u001B[39;00m x \u001B[38;5;129;01min\u001B[39;00m entries],\n\u001B[32m   1106\u001B[39m     expand_composites=expand_composites,\n\u001B[32m   1107\u001B[39m )\n",
      "\u001B[36mFile \u001B[39m\u001B[32m~/Desktop/allProjects/myenv/lib/python3.11/site-packages/tensorflow/python/framework/type_spec.py:252\u001B[39m, in \u001B[36mTypeSpec.to_tensors.<locals>.<lambda>\u001B[39m\u001B[34m(spec, v)\u001B[39m\n\u001B[32m    248\u001B[39m \u001B[38;5;250m\u001B[39m\u001B[33;03m\"\"\"See TraceType base class for details. Do not override.\"\"\"\u001B[39;00m\n\u001B[32m    250\u001B[39m tensors = []\n\u001B[32m    251\u001B[39m nest.map_structure(\n\u001B[32m--> \u001B[39m\u001B[32m252\u001B[39m     \u001B[38;5;28;01mlambda\u001B[39;00m spec, v: tensors.extend(\u001B[43mspec\u001B[49m\u001B[43m.\u001B[49m\u001B[43mto_tensors\u001B[49m\u001B[43m(\u001B[49m\u001B[43mv\u001B[49m\u001B[43m)\u001B[49m),\n\u001B[32m    253\u001B[39m     \u001B[38;5;28mself\u001B[39m._component_specs,\n\u001B[32m    254\u001B[39m     \u001B[38;5;28mself\u001B[39m._to_components(value))\n\u001B[32m    255\u001B[39m \u001B[38;5;28;01mreturn\u001B[39;00m tensors\n",
      "\u001B[36mFile \u001B[39m\u001B[32m~/Desktop/allProjects/myenv/lib/python3.11/site-packages/tensorflow/python/framework/tensor.py:1081\u001B[39m, in \u001B[36mTensorSpec.to_tensors\u001B[39m\u001B[34m(self, value)\u001B[39m\n\u001B[32m   1080\u001B[39m \u001B[38;5;28;01mdef\u001B[39;00m\u001B[38;5;250m \u001B[39m\u001B[34mto_tensors\u001B[39m(\u001B[38;5;28mself\u001B[39m, value):\n\u001B[32m-> \u001B[39m\u001B[32m1081\u001B[39m   value = \u001B[38;5;28;43mself\u001B[39;49m\u001B[43m.\u001B[49m\u001B[43mcast\u001B[49m\u001B[43m(\u001B[49m\u001B[43mvalue\u001B[49m\u001B[43m,\u001B[49m\u001B[43m \u001B[49m\u001B[43mtrace_type\u001B[49m\u001B[43m.\u001B[49m\u001B[43mInternalCastContext\u001B[49m\u001B[43m(\u001B[49m\u001B[43m)\u001B[49m\u001B[43m)\u001B[49m\n\u001B[32m   1082\u001B[39m   \u001B[38;5;28;01mif\u001B[39;00m \u001B[38;5;129;01mnot\u001B[39;00m value.shape.is_subtype_of(\u001B[38;5;28mself\u001B[39m.shape):\n\u001B[32m   1083\u001B[39m     \u001B[38;5;28;01mraise\u001B[39;00m \u001B[38;5;167;01mTypeError\u001B[39;00m(\n\u001B[32m   1084\u001B[39m         \u001B[33mf\u001B[39m\u001B[33m\"\u001B[39m\u001B[33mReceived tensor of shape \u001B[39m\u001B[38;5;132;01m{\u001B[39;00mvalue.shape\u001B[38;5;132;01m}\u001B[39;00m\u001B[33m instead of \u001B[39m\u001B[38;5;132;01m{\u001B[39;00m\u001B[38;5;28mself\u001B[39m.shape\u001B[38;5;132;01m}\u001B[39;00m\u001B[33m\"\u001B[39m\n\u001B[32m   1085\u001B[39m     )\n",
      "\u001B[36mFile \u001B[39m\u001B[32m~/Desktop/allProjects/myenv/lib/python3.11/site-packages/tensorflow/python/framework/tensor.py:1111\u001B[39m, in \u001B[36mTensorSpec.cast\u001B[39m\u001B[34m(self, value, casting_context)\u001B[39m\n\u001B[32m   1108\u001B[39m   value = tensor_conversion_registry.convert(value, \u001B[38;5;28mself\u001B[39m.dtype)\n\u001B[32m   1109\u001B[39m value_spec = TensorSpec(value.shape, value.dtype, \u001B[38;5;28mself\u001B[39m.name)\n\u001B[32m-> \u001B[39m\u001B[32m1111\u001B[39m \u001B[38;5;28;01mif\u001B[39;00m \u001B[38;5;129;01mnot\u001B[39;00m \u001B[43mvalue_spec\u001B[49m\u001B[43m.\u001B[49m\u001B[43mis_subtype_of\u001B[49m\u001B[43m(\u001B[49m\u001B[38;5;28;43mself\u001B[39;49m\u001B[43m)\u001B[49m:\n\u001B[32m   1112\u001B[39m   \u001B[38;5;28;01mif\u001B[39;00m \u001B[38;5;28mself\u001B[39m.is_subtype_of(value_spec):\n\u001B[32m   1113\u001B[39m     value.set_shape(\u001B[38;5;28mself\u001B[39m.shape)\n",
      "\u001B[36mFile \u001B[39m\u001B[32m~/Desktop/allProjects/myenv/lib/python3.11/site-packages/tensorflow/python/framework/tensor.py:1004\u001B[39m, in \u001B[36mTensorSpec.is_subtype_of\u001B[39m\u001B[34m(self, other)\u001B[39m\n\u001B[32m    999\u001B[39m \u001B[38;5;28;01mif\u001B[39;00m \u001B[38;5;129;01mnot\u001B[39;00m \u001B[38;5;28misinstance\u001B[39m(other, TensorSpec):\n\u001B[32m   1000\u001B[39m   \u001B[38;5;28;01mreturn\u001B[39;00m \u001B[38;5;28;01mFalse\u001B[39;00m\n\u001B[32m   1002\u001B[39m \u001B[38;5;28;01mreturn\u001B[39;00m (\n\u001B[32m   1003\u001B[39m     (\u001B[38;5;129;01mnot\u001B[39;00m \u001B[38;5;28mself\u001B[39m.name \u001B[38;5;129;01mor\u001B[39;00m \u001B[38;5;28mself\u001B[39m.name == other.name)\n\u001B[32m-> \u001B[39m\u001B[32m1004\u001B[39m     \u001B[38;5;129;01mand\u001B[39;00m \u001B[38;5;28;43mself\u001B[39;49m\u001B[43m.\u001B[49m\u001B[43mshape\u001B[49m\u001B[43m.\u001B[49m\u001B[43mis_subtype_of\u001B[49m\u001B[43m(\u001B[49m\u001B[43mother\u001B[49m\u001B[43m.\u001B[49m\u001B[43mshape\u001B[49m\u001B[43m)\u001B[49m\n\u001B[32m   1005\u001B[39m     \u001B[38;5;129;01mand\u001B[39;00m \u001B[38;5;28mself\u001B[39m.dtype.is_subtype_of(other.dtype)\n\u001B[32m   1006\u001B[39m )\n",
      "\u001B[36mFile \u001B[39m\u001B[32m~/Desktop/allProjects/myenv/lib/python3.11/site-packages/tensorflow/python/framework/tensor_shape.py:1225\u001B[39m, in \u001B[36mTensorShape.is_subtype_of\u001B[39m\u001B[34m(self, other)\u001B[39m\n\u001B[32m   1222\u001B[39m   \u001B[38;5;28;01mreturn\u001B[39;00m \u001B[38;5;28;01mFalse\u001B[39;00m\n\u001B[32m   1224\u001B[39m \u001B[38;5;66;03m# A Tensor is a subtype if each corresponding dimension is a subtype.\u001B[39;00m\n\u001B[32m-> \u001B[39m\u001B[32m1225\u001B[39m \u001B[38;5;28;01mreturn\u001B[39;00m \u001B[38;5;28mall\u001B[39m(o \u001B[38;5;129;01mis\u001B[39;00m \u001B[38;5;28;01mNone\u001B[39;00m \u001B[38;5;129;01mor\u001B[39;00m s == o \u001B[38;5;28;01mfor\u001B[39;00m s, o \u001B[38;5;129;01min\u001B[39;00m \u001B[38;5;28mzip\u001B[39m(\u001B[38;5;28mself\u001B[39m._dims, other._dims))\n",
      "\u001B[31mKeyboardInterrupt\u001B[39m: "
     ]
    }
   ],
   "execution_count": 55
  },
  {
   "metadata": {},
   "cell_type": "code",
   "outputs": [],
   "execution_count": null,
   "source": ";",
   "id": "d5da889935c4146a"
  }
 ],
 "metadata": {
  "kernelspec": {
   "display_name": "Python 3",
   "language": "python",
   "name": "python3"
  },
  "language_info": {
   "codemirror_mode": {
    "name": "ipython",
    "version": 2
   },
   "file_extension": ".py",
   "mimetype": "text/x-python",
   "name": "python",
   "nbconvert_exporter": "python",
   "pygments_lexer": "ipython2",
   "version": "2.7.6"
  }
 },
 "nbformat": 4,
 "nbformat_minor": 5
}
