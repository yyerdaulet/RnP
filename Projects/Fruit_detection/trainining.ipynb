{
 "cells": [
  {
   "cell_type": "code",
   "id": "initial_id",
   "metadata": {
    "collapsed": true,
    "ExecuteTime": {
     "end_time": "2025-06-02T14:07:08.136838Z",
     "start_time": "2025-06-02T14:07:08.120206Z"
    }
   },
   "source": [
    "from tensorflow.keras.preprocessing.image import ImageDataGenerator\n",
    "from tensorflow.keras.preprocessing import image\n",
    "from tensorflow.keras.optimizers import Adam\n",
    "import tensorflow as tf\n",
    "import numpy as np\n",
    "import cv2 \n",
    "import os"
   ],
   "outputs": [],
   "execution_count": 37
  },
  {
   "metadata": {
    "ExecuteTime": {
     "end_time": "2025-06-02T14:07:28.538045Z",
     "start_time": "2025-06-02T14:07:28.528346Z"
    }
   },
   "cell_type": "code",
   "source": [
    "train = ImageDataGenerator(rescale=1/255)\n",
    "validation = ImageDataGenerator(rescale=1/255)"
   ],
   "id": "ca48b5524a32d165",
   "outputs": [],
   "execution_count": 39
  },
  {
   "metadata": {
    "ExecuteTime": {
     "end_time": "2025-06-04T06:54:15.471181Z",
     "start_time": "2025-06-04T06:54:14.980625Z"
    }
   },
   "cell_type": "code",
   "source": "train_data = train.flow_from_directory('dataset/fruits-360-original-size/Training',target_size=(200,200),batch_size=32,class_mode='categorical')",
   "id": "724e1116713cd4b4",
   "outputs": [
    {
     "name": "stdout",
     "output_type": "stream",
     "text": [
      "Found 20037 images belonging to 62 classes.\n"
     ]
    }
   ],
   "execution_count": 73
  },
  {
   "metadata": {
    "ExecuteTime": {
     "end_time": "2025-06-04T06:54:21.759245Z",
     "start_time": "2025-06-04T06:54:21.498876Z"
    }
   },
   "cell_type": "code",
   "source": "validation_data = validation.flow_from_directory('dataset/fruits-360-original-size/Validation',target_size=(200,200),batch_size=32,class_mode='categorical')",
   "id": "366bbf359a50dd1b",
   "outputs": [
    {
     "name": "stdout",
     "output_type": "stream",
     "text": [
      "Found 10017 images belonging to 62 classes.\n"
     ]
    }
   ],
   "execution_count": 75
  },
  {
   "metadata": {
    "ExecuteTime": {
     "end_time": "2025-06-04T06:54:24.278791Z",
     "start_time": "2025-06-04T06:54:24.255736Z"
    }
   },
   "cell_type": "code",
   "source": "train_data.classes",
   "id": "576e56143a34c3f8",
   "outputs": [
    {
     "data": {
      "text/plain": [
       "array([ 0,  0,  0, ..., 61, 61, 61], dtype=int32)"
      ]
     },
     "execution_count": 76,
     "metadata": {},
     "output_type": "execute_result"
    }
   ],
   "execution_count": 76
  },
  {
   "metadata": {
    "ExecuteTime": {
     "end_time": "2025-06-04T06:54:25.495498Z",
     "start_time": "2025-06-04T06:54:25.405198Z"
    }
   },
   "cell_type": "code",
   "source": [
    "from keras import layers,models \n",
    "model = models.Sequential([\n",
    "    layers.Conv2D(32,(3,3),activation='relu',input_shape=(200,200,3)),\n",
    "    layers.BatchNormalization(),\n",
    "    layers.MaxPooling2D((2,2)),\n",
    "    \n",
    "    layers.Conv2D(64,(3,3),activation='relu'),\n",
    "    layers.BatchNormalization(),\n",
    "    layers.MaxPooling2D((2,2)),\n",
    "    \n",
    "    layers.Conv2D(128,(3,3),activation='relu'),\n",
    "    layers.BatchNormalization(),\n",
    "    layers.MaxPooling2D((2,2)),\n",
    "    \n",
    "    layers.Conv2D(256,(3,3),activation='relu'),\n",
    "    layers.BatchNormalization(),\n",
    "    layers.MaxPooling2D((2,2)),\n",
    "    \n",
    "    layers.Flatten(),\n",
    "    layers.Dense(256,activation='relu'),\n",
    "    layers.Dropout(0.3),\n",
    "    layers.Dense(62,activation='softmax')\n",
    "])"
   ],
   "id": "caa75be0ec8c6cd8",
   "outputs": [
    {
     "name": "stderr",
     "output_type": "stream",
     "text": [
      "/Users/erdaulet/Desktop/allProjects/myenv/lib/python3.11/site-packages/keras/src/layers/convolutional/base_conv.py:107: UserWarning: Do not pass an `input_shape`/`input_dim` argument to a layer. When using Sequential models, prefer using an `Input(shape)` object as the first layer in the model instead.\n",
      "  super().__init__(activity_regularizer=activity_regularizer, **kwargs)\n"
     ]
    }
   ],
   "execution_count": 77
  },
  {
   "metadata": {
    "ExecuteTime": {
     "end_time": "2025-06-04T06:54:30.873792Z",
     "start_time": "2025-06-04T06:54:30.860339Z"
    }
   },
   "cell_type": "code",
   "source": [
    "model.compile(\n",
    "    optimizer='adam',\n",
    "    loss='categorical_crossentropy',\n",
    "    metrics=['accuracy']\n",
    ")"
   ],
   "id": "4b21601c93cbf4e8",
   "outputs": [],
   "execution_count": 78
  },
  {
   "metadata": {
    "ExecuteTime": {
     "end_time": "2025-06-04T06:54:32.679164Z",
     "start_time": "2025-06-04T06:54:32.673415Z"
    }
   },
   "cell_type": "code",
   "source": [
    "from tensorflow.keras.callbacks import EarlyStopping\n",
    "early_stop = EarlyStopping(\n",
    "    monitor='val_acc',\n",
    "    patience=3,\n",
    "    restore_best_weights=True\n",
    ")"
   ],
   "id": "2b6a042413cac68f",
   "outputs": [],
   "execution_count": 79
  },
  {
   "metadata": {
    "ExecuteTime": {
     "end_time": "2025-06-04T07:38:58.175784Z",
     "start_time": "2025-06-04T06:57:03.015581Z"
    }
   },
   "cell_type": "code",
   "source": "model_fit = model.fit(train_data,steps_per_epoch=626,epochs=5,validation_data=validation_data)",
   "id": "38b8d5d21bc1d75e",
   "outputs": [
    {
     "name": "stdout",
     "output_type": "stream",
     "text": [
      "Epoch 1/5\n",
      "\u001B[1m626/626\u001B[0m \u001B[32m━━━━━━━━━━━━━━━━━━━━\u001B[0m\u001B[37m\u001B[0m \u001B[1m663s\u001B[0m 1s/step - accuracy: 0.7547 - loss: 0.9417 - val_accuracy: 0.9175 - val_loss: 0.3285\n",
      "Epoch 2/5\n",
      "\u001B[1m  1/626\u001B[0m \u001B[37m━━━━━━━━━━━━━━━━━━━━\u001B[0m \u001B[1m11:59\u001B[0m 1s/step - accuracy: 0.7812 - loss: 0.7512"
     ]
    },
    {
     "name": "stderr",
     "output_type": "stream",
     "text": [
      "/Users/erdaulet/Desktop/allProjects/myenv/lib/python3.11/site-packages/keras/src/trainers/epoch_iterator.py:107: UserWarning: Your input ran out of data; interrupting training. Make sure that your dataset or generator can generate at least `steps_per_epoch * epochs` batches. You may need to use the `.repeat()` function when building your dataset.\n",
      "  self._interrupted_warning()\n"
     ]
    },
    {
     "name": "stdout",
     "output_type": "stream",
     "text": [
      "\u001B[1m626/626\u001B[0m \u001B[32m━━━━━━━━━━━━━━━━━━━━\u001B[0m\u001B[37m\u001B[0m \u001B[1m61s\u001B[0m 96ms/step - accuracy: 0.7812 - loss: 0.7512 - val_accuracy: 0.9331 - val_loss: 0.2174\n",
      "Epoch 3/5\n",
      "\u001B[1m626/626\u001B[0m \u001B[32m━━━━━━━━━━━━━━━━━━━━\u001B[0m\u001B[37m\u001B[0m \u001B[1m874s\u001B[0m 1s/step - accuracy: 0.8848 - loss: 0.4598 - val_accuracy: 0.9587 - val_loss: 0.1945\n",
      "Epoch 4/5\n",
      "\u001B[1m626/626\u001B[0m \u001B[32m━━━━━━━━━━━━━━━━━━━━\u001B[0m\u001B[37m\u001B[0m \u001B[1m99s\u001B[0m 156ms/step - accuracy: 0.9375 - loss: 0.2131 - val_accuracy: 0.9515 - val_loss: 0.2379\n",
      "Epoch 5/5\n",
      "\u001B[1m626/626\u001B[0m \u001B[32m━━━━━━━━━━━━━━━━━━━━\u001B[0m\u001B[37m\u001B[0m \u001B[1m817s\u001B[0m 1s/step - accuracy: 0.9369 - loss: 0.2401 - val_accuracy: 0.9749 - val_loss: 0.0631\n"
     ]
    }
   ],
   "execution_count": 82
  },
  {
   "metadata": {
    "ExecuteTime": {
     "end_time": "2025-06-04T07:40:35.389604Z",
     "start_time": "2025-06-04T07:40:35.196664Z"
    }
   },
   "cell_type": "code",
   "source": "model.save('my_model.h5')",
   "id": "d5da889935c4146a",
   "outputs": [
    {
     "name": "stderr",
     "output_type": "stream",
     "text": [
      "WARNING:absl:You are saving your model as an HDF5 file via `model.save()` or `keras.saving.save_model(model)`. This file format is considered legacy. We recommend using instead the native Keras format, e.g. `model.save('my_model.keras')` or `keras.saving.save_model(model, 'my_model.keras')`. \n"
     ]
    }
   ],
   "execution_count": 84
  }
 ],
 "metadata": {
  "kernelspec": {
   "display_name": "Python 3",
   "language": "python",
   "name": "python3"
  },
  "language_info": {
   "codemirror_mode": {
    "name": "ipython",
    "version": 2
   },
   "file_extension": ".py",
   "mimetype": "text/x-python",
   "name": "python",
   "nbconvert_exporter": "python",
   "pygments_lexer": "ipython2",
   "version": "2.7.6"
  }
 },
 "nbformat": 4,
 "nbformat_minor": 5
}
