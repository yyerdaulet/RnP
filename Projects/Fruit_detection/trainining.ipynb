{
 "cells": [
  {
   "cell_type": "code",
   "id": "initial_id",
   "metadata": {
    "collapsed": true,
    "ExecuteTime": {
     "end_time": "2025-05-31T14:25:14.465015Z",
     "start_time": "2025-05-31T14:25:14.454590Z"
    }
   },
   "source": [
    "from tensorflow.keras.preprocessing.image import ImageDataGenerator\n",
    "from tensorflow.keras.preprocessing import image\n",
    "from tensorflow.keras.optimizers import Adam\n",
    "import tensorflow as tf\n",
    "import numpy as np\n",
    "import cv2 \n",
    "import os"
   ],
   "outputs": [],
   "execution_count": 2
  },
  {
   "metadata": {
    "ExecuteTime": {
     "end_time": "2025-05-31T14:51:53.632851Z",
     "start_time": "2025-05-31T14:51:53.620430Z"
    }
   },
   "cell_type": "code",
   "source": "cv2.imread('dataset/fruits-360-original-size/Training/Apple Core 1/r0_0.jpg').shape",
   "id": "93cb82fe3daab9c8",
   "outputs": [
    {
     "data": {
      "text/plain": [
       "(608, 272, 3)"
      ]
     },
     "execution_count": 4,
     "metadata": {},
     "output_type": "execute_result"
    }
   ],
   "execution_count": 4
  },
  {
   "metadata": {
    "ExecuteTime": {
     "end_time": "2025-05-31T14:53:38.815503Z",
     "start_time": "2025-05-31T14:53:38.804599Z"
    }
   },
   "cell_type": "code",
   "source": [
    "train = ImageDataGenerator(rescale=1/255)\n",
    "validation = ImageDataGenerator(rescale=1/255)"
   ],
   "id": "ca48b5524a32d165",
   "outputs": [],
   "execution_count": 5
  },
  {
   "metadata": {
    "ExecuteTime": {
     "end_time": "2025-05-31T14:56:14.961182Z",
     "start_time": "2025-05-31T14:56:13.871344Z"
    }
   },
   "cell_type": "code",
   "source": "train_data = train.flow_from_directory('dataset/fruits-360-original-size/Training',target_size=(200,200),batch_size=3,class_mode='categorical')",
   "id": "724e1116713cd4b4",
   "outputs": [
    {
     "name": "stdout",
     "output_type": "stream",
     "text": [
      "Found 28250 images belonging to 84 classes.\n"
     ]
    }
   ],
   "execution_count": 6
  },
  {
   "metadata": {
    "ExecuteTime": {
     "end_time": "2025-05-31T14:58:12.965925Z",
     "start_time": "2025-05-31T14:58:12.271436Z"
    }
   },
   "cell_type": "code",
   "source": "validation_data = validation.flow_from_directory('dataset/fruits-360-original-size/Validation',target_size=(200,200),batch_size=3,class_mode='categorical')",
   "id": "366bbf359a50dd1b",
   "outputs": [
    {
     "name": "stdout",
     "output_type": "stream",
     "text": [
      "Found 14128 images belonging to 84 classes.\n"
     ]
    }
   ],
   "execution_count": 9
  },
  {
   "metadata": {
    "ExecuteTime": {
     "end_time": "2025-05-31T14:58:32.341434Z",
     "start_time": "2025-05-31T14:58:32.324676Z"
    }
   },
   "cell_type": "code",
   "source": "train_data.classes",
   "id": "576e56143a34c3f8",
   "outputs": [
    {
     "data": {
      "text/plain": [
       "array([ 0,  0,  0, ..., 83, 83, 83], dtype=int32)"
      ]
     },
     "execution_count": 10,
     "metadata": {},
     "output_type": "execute_result"
    }
   ],
   "execution_count": 10
  },
  {
   "metadata": {},
   "cell_type": "code",
   "outputs": [],
   "execution_count": null,
   "source": "",
   "id": "caa75be0ec8c6cd8"
  }
 ],
 "metadata": {
  "kernelspec": {
   "display_name": "Python 3",
   "language": "python",
   "name": "python3"
  },
  "language_info": {
   "codemirror_mode": {
    "name": "ipython",
    "version": 2
   },
   "file_extension": ".py",
   "mimetype": "text/x-python",
   "name": "python",
   "nbconvert_exporter": "python",
   "pygments_lexer": "ipython2",
   "version": "2.7.6"
  }
 },
 "nbformat": 4,
 "nbformat_minor": 5
}
