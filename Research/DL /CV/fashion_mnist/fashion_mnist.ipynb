{
 "cells": [
  {
   "cell_type": "code",
   "id": "initial_id",
   "metadata": {
    "collapsed": true,
    "ExecuteTime": {
     "end_time": "2025-05-25T21:41:35.961001Z",
     "start_time": "2025-05-25T21:41:35.306985Z"
    }
   },
   "source": "import pandas as pd",
   "outputs": [],
   "execution_count": 1
  },
  {
   "metadata": {
    "ExecuteTime": {
     "end_time": "2025-05-25T21:44:28.976300Z",
     "start_time": "2025-05-25T21:44:26.032213Z"
    }
   },
   "cell_type": "code",
   "source": [
    "train = pd.read_csv('fashion-mnist_train.csv')\n",
    "test = pd.read_csv('fashion-mnist_test.csv')"
   ],
   "id": "c14e042fa4f9752a",
   "outputs": [],
   "execution_count": 3
  },
  {
   "metadata": {
    "ExecuteTime": {
     "end_time": "2025-05-26T05:27:17.576264Z",
     "start_time": "2025-05-26T05:27:17.291538Z"
    }
   },
   "cell_type": "code",
   "source": [
    "X_train = train.drop(['label'],axis=1).values\n",
    "y_train = train['label']\n",
    "X_test = test.drop(['label'],axis=1).values\n",
    "y_test = test['label']"
   ],
   "id": "d02075419b70a6c9",
   "outputs": [],
   "execution_count": 12
  },
  {
   "metadata": {
    "ExecuteTime": {
     "end_time": "2025-05-26T05:27:19.183287Z",
     "start_time": "2025-05-26T05:27:18.854665Z"
    }
   },
   "cell_type": "code",
   "source": [
    "X_train = X_train.reshape(-1,28,28,1)\n",
    "X_train = X_train.astype('float32')/255 \n",
    "X_test = X_test.reshape(-1,28,28,1)\n",
    "X_test = X_test.astype('float32')/255"
   ],
   "id": "30fc4610fbbab0a6",
   "outputs": [],
   "execution_count": 13
  },
  {
   "metadata": {
    "ExecuteTime": {
     "end_time": "2025-05-25T22:43:20.143029Z",
     "start_time": "2025-05-25T22:42:59.206056Z"
    }
   },
   "cell_type": "code",
   "source": [
    "from keras import Sequential\n",
    "from keras import layers "
   ],
   "id": "106a8c209d99a6ed",
   "outputs": [],
   "execution_count": 4
  },
  {
   "metadata": {
    "ExecuteTime": {
     "end_time": "2025-05-26T05:33:09.579275Z",
     "start_time": "2025-05-26T05:33:09.436210Z"
    }
   },
   "cell_type": "code",
   "source": [
    "model = Sequential([\n",
    "    layers.Conv2D(32,(3,3),activation='relu',input_shape=(28,28,1)),\n",
    "    layers.MaxPooling2D(2,2),\n",
    "    \n",
    "    layers.Conv2D(64,(3,3),activation='relu'),\n",
    "    layers.MaxPooling2D(2,2),\n",
    "    \n",
    "    layers.Flatten(),\n",
    "    \n",
    "    layers.Dense(64,activation='relu'),\n",
    "    layers.Dense(10,activation='softmax')\n",
    "])"
   ],
   "id": "4be421cb0396b4f5",
   "outputs": [
    {
     "name": "stderr",
     "output_type": "stream",
     "text": [
      "/Users/erdaulet/Desktop/allProjects/myenv/lib/python3.11/site-packages/keras/src/layers/convolutional/base_conv.py:107: UserWarning: Do not pass an `input_shape`/`input_dim` argument to a layer. When using Sequential models, prefer using an `Input(shape)` object as the first layer in the model instead.\n",
      "  super().__init__(activity_regularizer=activity_regularizer, **kwargs)\n"
     ]
    }
   ],
   "execution_count": 14
  },
  {
   "metadata": {
    "ExecuteTime": {
     "end_time": "2025-05-26T05:36:35.338039Z",
     "start_time": "2025-05-26T05:36:35.313638Z"
    }
   },
   "cell_type": "code",
   "source": "model.compile(optimizer='adam',loss='sparse_categorical_crossentropy',metrics=['accuracy'])",
   "id": "b27ebd0a7212dcb",
   "outputs": [],
   "execution_count": 19
  },
  {
   "metadata": {
    "ExecuteTime": {
     "end_time": "2025-05-26T05:39:10.092151Z",
     "start_time": "2025-05-26T05:37:03.259910Z"
    }
   },
   "cell_type": "code",
   "source": "model.fit(X_train,y_train,epochs=10)",
   "id": "a65e3ebe56dae1e4",
   "outputs": [
    {
     "name": "stdout",
     "output_type": "stream",
     "text": [
      "Epoch 1/10\n",
      "\u001B[1m1875/1875\u001B[0m \u001B[32m━━━━━━━━━━━━━━━━━━━━\u001B[0m\u001B[37m\u001B[0m \u001B[1m13s\u001B[0m 7ms/step - accuracy: 0.8950 - loss: 0.2879\n",
      "Epoch 2/10\n",
      "\u001B[1m1875/1875\u001B[0m \u001B[32m━━━━━━━━━━━━━━━━━━━━\u001B[0m\u001B[37m\u001B[0m \u001B[1m12s\u001B[0m 7ms/step - accuracy: 0.9095 - loss: 0.2468\n",
      "Epoch 3/10\n",
      "\u001B[1m1875/1875\u001B[0m \u001B[32m━━━━━━━━━━━━━━━━━━━━\u001B[0m\u001B[37m\u001B[0m \u001B[1m13s\u001B[0m 7ms/step - accuracy: 0.9194 - loss: 0.2184\n",
      "Epoch 4/10\n",
      "\u001B[1m1875/1875\u001B[0m \u001B[32m━━━━━━━━━━━━━━━━━━━━\u001B[0m\u001B[37m\u001B[0m \u001B[1m12s\u001B[0m 7ms/step - accuracy: 0.9274 - loss: 0.1952\n",
      "Epoch 5/10\n",
      "\u001B[1m1875/1875\u001B[0m \u001B[32m━━━━━━━━━━━━━━━━━━━━\u001B[0m\u001B[37m\u001B[0m \u001B[1m13s\u001B[0m 7ms/step - accuracy: 0.9354 - loss: 0.1727\n",
      "Epoch 6/10\n",
      "\u001B[1m1875/1875\u001B[0m \u001B[32m━━━━━━━━━━━━━━━━━━━━\u001B[0m\u001B[37m\u001B[0m \u001B[1m13s\u001B[0m 7ms/step - accuracy: 0.9419 - loss: 0.1573\n",
      "Epoch 7/10\n",
      "\u001B[1m1875/1875\u001B[0m \u001B[32m━━━━━━━━━━━━━━━━━━━━\u001B[0m\u001B[37m\u001B[0m \u001B[1m13s\u001B[0m 7ms/step - accuracy: 0.9479 - loss: 0.1375\n",
      "Epoch 8/10\n",
      "\u001B[1m1875/1875\u001B[0m \u001B[32m━━━━━━━━━━━━━━━━━━━━\u001B[0m\u001B[37m\u001B[0m \u001B[1m13s\u001B[0m 7ms/step - accuracy: 0.9549 - loss: 0.1227\n",
      "Epoch 9/10\n",
      "\u001B[1m1875/1875\u001B[0m \u001B[32m━━━━━━━━━━━━━━━━━━━━\u001B[0m\u001B[37m\u001B[0m \u001B[1m13s\u001B[0m 7ms/step - accuracy: 0.9588 - loss: 0.1097\n",
      "Epoch 10/10\n",
      "\u001B[1m1875/1875\u001B[0m \u001B[32m━━━━━━━━━━━━━━━━━━━━\u001B[0m\u001B[37m\u001B[0m \u001B[1m13s\u001B[0m 7ms/step - accuracy: 0.9632 - loss: 0.0981\n"
     ]
    },
    {
     "data": {
      "text/plain": [
       "<keras.src.callbacks.history.History at 0x17ad9a2d0>"
      ]
     },
     "execution_count": 21,
     "metadata": {},
     "output_type": "execute_result"
    }
   ],
   "execution_count": 21
  },
  {
   "metadata": {
    "ExecuteTime": {
     "end_time": "2025-05-26T05:43:50.125714Z",
     "start_time": "2025-05-26T05:43:49.109762Z"
    }
   },
   "cell_type": "code",
   "source": [
    "loss,acc = model.evaluate(X_test,y_test)\n",
    "print(loss)\n",
    "print(acc)"
   ],
   "id": "2614c28cb8dcbb68",
   "outputs": [
    {
     "name": "stdout",
     "output_type": "stream",
     "text": [
      "\u001B[1m313/313\u001B[0m \u001B[32m━━━━━━━━━━━━━━━━━━━━\u001B[0m\u001B[37m\u001B[0m \u001B[1m1s\u001B[0m 3ms/step - accuracy: 0.9108 - loss: 0.2629\n",
      "0.26614832878112793\n",
      "0.9128000140190125\n"
     ]
    }
   ],
   "execution_count": 25
  },
  {
   "metadata": {
    "ExecuteTime": {
     "end_time": "2025-05-26T05:48:20.811451Z",
     "start_time": "2025-05-26T05:48:19.781238Z"
    }
   },
   "cell_type": "code",
   "source": [
    "import numpy as np\n",
    "y_pred = np.argmax(model.predict(X_test),axis=1)"
   ],
   "id": "adaa17c4c3185c42",
   "outputs": [
    {
     "name": "stdout",
     "output_type": "stream",
     "text": [
      "\u001B[1m313/313\u001B[0m \u001B[32m━━━━━━━━━━━━━━━━━━━━\u001B[0m\u001B[37m\u001B[0m \u001B[1m1s\u001B[0m 3ms/step\n"
     ]
    }
   ],
   "execution_count": 30
  },
  {
   "metadata": {
    "ExecuteTime": {
     "end_time": "2025-05-26T05:48:22.275076Z",
     "start_time": "2025-05-26T05:48:22.249463Z"
    }
   },
   "cell_type": "code",
   "source": [
    "from sklearn.metrics import classification_report \n",
    "print(classification_report(y_test,y_pred))"
   ],
   "id": "6ff963f84ef457d7",
   "outputs": [
    {
     "name": "stdout",
     "output_type": "stream",
     "text": [
      "              precision    recall  f1-score   support\n",
      "\n",
      "           0       0.83      0.88      0.85      1000\n",
      "           1       0.97      1.00      0.98      1000\n",
      "           2       0.88      0.84      0.86      1000\n",
      "           3       0.92      0.92      0.92      1000\n",
      "           4       0.85      0.90      0.87      1000\n",
      "           5       0.99      0.97      0.98      1000\n",
      "           6       0.81      0.71      0.76      1000\n",
      "           7       0.98      0.92      0.95      1000\n",
      "           8       0.99      0.99      0.99      1000\n",
      "           9       0.92      0.99      0.96      1000\n",
      "\n",
      "    accuracy                           0.91     10000\n",
      "   macro avg       0.91      0.91      0.91     10000\n",
      "weighted avg       0.91      0.91      0.91     10000\n",
      "\n"
     ]
    }
   ],
   "execution_count": 31
  }
 ],
 "metadata": {
  "kernelspec": {
   "display_name": "Python 3",
   "language": "python",
   "name": "python3"
  },
  "language_info": {
   "codemirror_mode": {
    "name": "ipython",
    "version": 2
   },
   "file_extension": ".py",
   "mimetype": "text/x-python",
   "name": "python",
   "nbconvert_exporter": "python",
   "pygments_lexer": "ipython2",
   "version": "2.7.6"
  }
 },
 "nbformat": 4,
 "nbformat_minor": 5
}
